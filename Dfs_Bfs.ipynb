{
  "nbformat": 4,
  "nbformat_minor": 0,
  "metadata": {
    "colab": {
      "provenance": [],
      "authorship_tag": "ABX9TyOm9jcvWC+m2lk6gwGi4rYz",
      "include_colab_link": true
    },
    "kernelspec": {
      "name": "python3",
      "display_name": "Python 3"
    },
    "language_info": {
      "name": "python"
    }
  },
  "cells": [
    {
      "cell_type": "markdown",
      "metadata": {
        "id": "view-in-github",
        "colab_type": "text"
      },
      "source": [
        "<a href=\"https://colab.research.google.com/github/seo101500/Algorithm/blob/master/Dfs_Bfs.ipynb\" target=\"_parent\"><img src=\"https://colab.research.google.com/assets/colab-badge.svg\" alt=\"Open In Colab\"/></a>"
      ]
    },
    {
      "cell_type": "code",
      "execution_count": null,
      "metadata": {
        "colab": {
          "base_uri": "https://localhost:8080/"
        },
        "id": "KrOwTYm_JGca",
        "outputId": "b8bf4d67-53a6-4a5a-e028-128100464f52"
      },
      "outputs": [
        {
          "output_type": "stream",
          "name": "stdout",
          "text": [
            "[5, 2, 3, 1]\n",
            "[1, 3, 2, 5]\n"
          ]
        }
      ],
      "source": [
        "stack=[]\n",
        "stack.append(5)\n",
        "stack.append(2)\n",
        "stack.append(3)\n",
        "stack.append(7)\n",
        "stack.pop()    #삭제\n",
        "stack.append(1)\n",
        "stack.append(4)\n",
        "stack.pop()\n",
        "print(stack)\n",
        "print(stack[::-1])"
      ]
    },
    {
      "cell_type": "code",
      "source": [
        "from collections import deque \n",
        "queue = deque()\n",
        "queue.append(5)\n",
        "queue.append(2)\n",
        "queue.append(3)\n",
        "queue.append(7)\n",
        "queue.popleft()\n",
        "queue.append(1)\n",
        "queue.append(4)\n",
        "queue.popleft()\n",
        "\n",
        "print(queue)\n",
        "queue.reverse()\n",
        "print(queue)\n"
      ],
      "metadata": {
        "colab": {
          "base_uri": "https://localhost:8080/"
        },
        "id": "pMMicFQhJmyi",
        "outputId": "23e591fe-4b1a-4b82-c65e-4ad94c76aaf7"
      },
      "execution_count": null,
      "outputs": [
        {
          "output_type": "stream",
          "name": "stdout",
          "text": [
            "deque([3, 7, 1, 4])\n",
            "deque([4, 1, 7, 3])\n"
          ]
        }
      ]
    },
    {
      "cell_type": "code",
      "source": [
        "def recursive_function(i): #재귀함수\n",
        "  if i == 100:\n",
        "    return\n",
        "    print(i, '번째 재귀함수에서', i+1,'번째 재귀함수를 호출합니다.')\n",
        "    recursive_function(i+1)\n",
        "    print(i,'번째 재귀함수를 종료합니다.')\n",
        "\n",
        "  recursive_function(1)"
      ],
      "metadata": {
        "id": "Pk8zxAnFNyNO"
      },
      "execution_count": null,
      "outputs": []
    },
    {
      "cell_type": "code",
      "source": [
        "def factorial_iterative(n):\n",
        "  result = 1\n",
        "  for i in range(1,n+1):\n",
        "    result *= i\n",
        "    return result\n",
        "print('반복적으로 구현:', factorial_iterative(5))\n",
        "    "
      ],
      "metadata": {
        "colab": {
          "base_uri": "https://localhost:8080/"
        },
        "id": "p0b3aHPNPANB",
        "outputId": "a6f3bba0-a1eb-4872-f0a9-23b306d9059a"
      },
      "execution_count": null,
      "outputs": [
        {
          "output_type": "stream",
          "name": "stdout",
          "text": [
            "반복적으로 구현: 1\n"
          ]
        }
      ]
    },
    {
      "cell_type": "code",
      "source": [
        "def factorial_iterative(n):\n",
        "  if n<= 1:\n",
        "    return 1\n",
        "    #return n * factorial_recursive(n-1)\n",
        "    print('재귀적으로 구현',factorial_recursive(5))"
      ],
      "metadata": {
        "id": "jKNpvRaFP_QK"
      },
      "execution_count": null,
      "outputs": []
    },
    {
      "cell_type": "code",
      "source": [
        "INF = 999999999999        #인접행렬렬\n",
        "graph = [\n",
        "    [0,7,5],\n",
        "    [7,0,INF],\n",
        "    [5,INF,0]\n",
        "]\n",
        "print(graph)"
      ],
      "metadata": {
        "colab": {
          "base_uri": "https://localhost:8080/"
        },
        "id": "7tLTtkstX8rM",
        "outputId": "2653492c-b7d1-48c4-ea13-afa483db3178"
      },
      "execution_count": null,
      "outputs": [
        {
          "output_type": "stream",
          "name": "stdout",
          "text": [
            "[[0, 7, 5], [7, 0, 999999999999], [5, 999999999999, 0]]\n"
          ]
        }
      ]
    },
    {
      "cell_type": "code",
      "source": [
        "graph = [[] for _ in range(3)]      #인접리스트\n",
        "\n",
        "graph[0].append((1,7))\n",
        "graph[0].append((2,5))\n",
        "\n",
        "graph[1].append((0,7))\n",
        "graph[2].append((0,5))\n",
        "\n",
        "print(graph)                      #인접 리스트 방식이 행렬보다 메모리 공간의 낭비가 적다. "
      ],
      "metadata": {
        "colab": {
          "base_uri": "https://localhost:8080/"
        },
        "id": "85VdC3F1ZPxZ",
        "outputId": "0cc5bad9-0959-47a9-c3b5-e6f969d6859a"
      },
      "execution_count": null,
      "outputs": [
        {
          "output_type": "stream",
          "name": "stdout",
          "text": [
            "[[(1, 7), (2, 5)], [(0, 7)], [(0, 5)]]\n"
          ]
        }
      ]
    },
    {
      "cell_type": "code",
      "source": [
        "def dfs(graph,v,visited):\n",
        "  visited[v] = True\n",
        "  print(v,end = '')\n",
        "  for i in graph[v]:\n",
        "    if not visited[i]:\n",
        "      dfs(graph,i,visited)\n",
        "      \n",
        "graph = [\n",
        "    [],\n",
        "    [2,3,8],\n",
        "    [1,7],\n",
        "    [1,4,5],\n",
        "    [3,5],\n",
        "    [3,4],\n",
        "    [7],\n",
        "    [2,6,8],\n",
        "    [1,7]\n",
        "]\n",
        "visited = [False] * 9\n",
        "dfs(graph,1,visited)"
      ],
      "metadata": {
        "colab": {
          "base_uri": "https://localhost:8080/"
        },
        "id": "tEOv3teSbcSp",
        "outputId": "808915d3-6631-452f-d66f-dcbaf377a234"
      },
      "execution_count": null,
      "outputs": [
        {
          "output_type": "stream",
          "name": "stdout",
          "text": [
            "12768345"
          ]
        }
      ]
    },
    {
      "cell_type": "code",
      "source": [
        "from collections import deque\n",
        "def dfs(graph,start,visited):\n",
        "  queue = deque([start])\n",
        "  visited[start]=True\n",
        "  while queue:\n",
        "    v=queue.popleft()\n",
        "    print(v,end='')\n",
        "    for i in graph[v]:\n",
        "      if not visited[i]:\n",
        "        queue.append(i)\n",
        "        visited[i]=True\n",
        "\n",
        "graph = [\n",
        "    [],\n",
        "    [2,3,8],\n",
        "    [1,7],\n",
        "    [1,4,5],\n",
        "    [3,5],\n",
        "    [3,4],\n",
        "    [7],\n",
        "    [2,6,8],\n",
        "    [1,7]\n",
        "]\n",
        "visited = [False] * 9\n",
        "dfs(graph,1,visited)"
      ],
      "metadata": {
        "colab": {
          "base_uri": "https://localhost:8080/"
        },
        "id": "cA2pK0-Be2WP",
        "outputId": "b8f79dc1-18cf-4cac-bb37-7988fc6d6dbf"
      },
      "execution_count": null,
      "outputs": [
        {
          "output_type": "stream",
          "name": "stdout",
          "text": [
            "12387456"
          ]
        }
      ]
    },
    {
      "cell_type": "code",
      "source": [
        "#음료수 얼려먹기 문제\n",
        "\n",
        "n,m = map(int,input().split()) \n",
        "\n",
        "graph = []\n",
        "for i in range(n):\n",
        "  graph.append(list(map(int,input()))) #0,1밖에 없는 정수 리스트 \n",
        "  \n",
        "def dfs(x,y):\n",
        "    if x <= -1 or x >= n or y <= -1 or y >=m:\n",
        "      return False\n",
        "\n",
        "    if graph[x][y] == 0:\n",
        "        graph[x][y] = 1\n",
        "  \n",
        "        dfs(x - 1, y)\n",
        "        dfs(x, y - 1)\n",
        "        dfs(x + 1, y)\n",
        "        dfs(x, y + 1)\n",
        "        return True\n",
        "    return False\n",
        "\n",
        "result = 0\n",
        "for i in range(n):\n",
        "  for j in range(m):\n",
        "      if dfs(i,j) == True:\n",
        "          result += 1\n",
        "\n",
        "print(result)\n",
        "\n"
      ],
      "metadata": {
        "id": "mGkgw4BSgtsX",
        "colab": {
          "base_uri": "https://localhost:8080/"
        },
        "outputId": "9d178bb7-ff87-4fb6-ca3b-48decb799414"
      },
      "execution_count": 12,
      "outputs": [
        {
          "output_type": "stream",
          "name": "stdout",
          "text": [
            "3 3\n",
            "001\n",
            "010\n",
            "101\n",
            "3\n"
          ]
        }
      ]
    },
    {
      "cell_type": "code",
      "source": [],
      "metadata": {
        "id": "OaDL5XuVHzrE"
      },
      "execution_count": null,
      "outputs": []
    }
  ]
}